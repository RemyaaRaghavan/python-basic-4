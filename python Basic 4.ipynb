{
 "cells": [
  {
   "cell_type": "markdown",
   "id": "e661f68e",
   "metadata": {},
   "source": [
    "# complex data types."
   ]
  },
  {
   "cell_type": "markdown",
   "id": "5974c2ff",
   "metadata": {},
   "source": [
    "# Lists"
   ]
  },
  {
   "cell_type": "code",
   "execution_count": 5,
   "id": "3fad6bec",
   "metadata": {},
   "outputs": [
    {
     "data": {
      "text/plain": [
       "[15, 25, 10, 30]"
      ]
     },
     "execution_count": 5,
     "metadata": {},
     "output_type": "execute_result"
    }
   ],
   "source": [
    "list = [20,15,25,10,30,5,'pinki','brownie']\n",
    "#will get the value from index 1 until index 5.\n",
    "list[1:5]"
   ]
  },
  {
   "cell_type": "code",
   "execution_count": 6,
   "id": "3e97d68e",
   "metadata": {},
   "outputs": [
    {
     "data": {
      "text/plain": [
       "[25, 10, 30, 5]"
      ]
     },
     "execution_count": 6,
     "metadata": {},
     "output_type": "execute_result"
    }
   ],
   "source": [
    "list[2:6]"
   ]
  },
  {
   "cell_type": "code",
   "execution_count": 7,
   "id": "3f8c91a8",
   "metadata": {},
   "outputs": [
    {
     "data": {
      "text/plain": [
       "[30, 5, 'pinki', 'brownie']"
      ]
     },
     "execution_count": 7,
     "metadata": {},
     "output_type": "execute_result"
    }
   ],
   "source": [
    "list[4:8]"
   ]
  },
  {
   "cell_type": "code",
   "execution_count": 9,
   "id": "576fffe5",
   "metadata": {},
   "outputs": [
    {
     "data": {
      "text/plain": [
       "[20, 15, 25, 10, 30, 5, 'zimba', 'brownie']"
      ]
     },
     "execution_count": 9,
     "metadata": {},
     "output_type": "execute_result"
    }
   ],
   "source": [
    "#will replace the value at the index 6.\n",
    "list[6]='zimba'\n",
    "list"
   ]
  },
  {
   "cell_type": "code",
   "execution_count": 10,
   "id": "fc248142",
   "metadata": {},
   "outputs": [
    {
     "data": {
      "text/plain": [
       "[20, 15, 25, 10, 30, 5, 'jimmy', 'brownie']"
      ]
     },
     "execution_count": 10,
     "metadata": {},
     "output_type": "execute_result"
    }
   ],
   "source": [
    "list[6]='jimmy'\n",
    "list"
   ]
  },
  {
   "cell_type": "code",
   "execution_count": 12,
   "id": "5e9c1b12",
   "metadata": {},
   "outputs": [
    {
     "data": {
      "text/plain": [
       "[20, 15, 25, 10, 30, 5, 'jimmy', 'brownie', 'blacky', 'blacky']"
      ]
     },
     "execution_count": 12,
     "metadata": {},
     "output_type": "execute_result"
    }
   ],
   "source": [
    "#will add the value at the end of the list.\n",
    "list.append('blacky')\n",
    "list"
   ]
  },
  {
   "cell_type": "code",
   "execution_count": 13,
   "id": "2a757c77",
   "metadata": {},
   "outputs": [
    {
     "data": {
      "text/plain": [
       "[20, 15, 25, 10, 'pekky', 30, 5, 'jimmy', 'brownie', 'blacky', 'blacky']"
      ]
     },
     "execution_count": 13,
     "metadata": {},
     "output_type": "execute_result"
    }
   ],
   "source": [
    "#will add the value at the index 4.\n",
    "list.insert(4,'pekky')\n",
    "list"
   ]
  },
  {
   "cell_type": "code",
   "execution_count": 16,
   "id": "da51f4a0",
   "metadata": {},
   "outputs": [
    {
     "data": {
      "text/plain": [
       "[20,\n",
       " 15,\n",
       " 25,\n",
       " 10,\n",
       " 'pekky',\n",
       " 30,\n",
       " 'pinki',\n",
       " 'pinki',\n",
       " 'pinki',\n",
       " 5,\n",
       " 'jimmy',\n",
       " 'brownie',\n",
       " 'blacky',\n",
       " 'blacky']"
      ]
     },
     "execution_count": 16,
     "metadata": {},
     "output_type": "execute_result"
    }
   ],
   "source": [
    "list.insert(6,'pinki')\n",
    "list"
   ]
  },
  {
   "cell_type": "code",
   "execution_count": null,
   "id": "4b28176b",
   "metadata": {},
   "outputs": [],
   "source": []
  }
 ],
 "metadata": {
  "kernelspec": {
   "display_name": "Python 3 (ipykernel)",
   "language": "python",
   "name": "python3"
  },
  "language_info": {
   "codemirror_mode": {
    "name": "ipython",
    "version": 3
   },
   "file_extension": ".py",
   "mimetype": "text/x-python",
   "name": "python",
   "nbconvert_exporter": "python",
   "pygments_lexer": "ipython3",
   "version": "3.10.9"
  }
 },
 "nbformat": 4,
 "nbformat_minor": 5
}
